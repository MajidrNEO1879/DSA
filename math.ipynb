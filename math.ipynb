{
  "nbformat": 4,
  "nbformat_minor": 0,
  "metadata": {
    "colab": {
      "provenance": [],
      "authorship_tag": "ABX9TyOcugj98I6c91G0vc/1Xglg",
      "include_colab_link": true
    },
    "kernelspec": {
      "name": "python3",
      "display_name": "Python 3"
    },
    "language_info": {
      "name": "python"
    }
  },
  "cells": [
    {
      "cell_type": "markdown",
      "metadata": {
        "id": "view-in-github",
        "colab_type": "text"
      },
      "source": [
        "<a href=\"https://colab.research.google.com/github/MajidrNEO1879/DSA/blob/master/math.ipynb\" target=\"_parent\"><img src=\"https://colab.research.google.com/assets/colab-badge.svg\" alt=\"Open In Colab\"/></a>"
      ]
    },
    {
      "cell_type": "markdown",
      "source": [
        "\\You are given an array of integers distance.\n",
        "\n",
        "You start at the point (0, 0) on an X-Y plane, and you move distance[0] meters to the north, then distance[1] meters to the west, distance[2] meters to the south, distance[3] meters to the east, and so on. In other words, after each move, your direction changes counter-clockwise.\n",
        "\n",
        "Return true if your path crosses itself or false if it does not."
      ],
      "metadata": {
        "id": "x6luefx-OGTW"
      }
    },
    {
      "cell_type": "code",
      "source": [
        "def corossing_line(array:list) -> bool:\n",
        "  x, y = 0, 0\n",
        "  visited = {(x, y)}\n",
        "  directions = [(0, 1), (-1, 0), (0, -1), (1, 0)]\n",
        "  dir_index = 0\n",
        "\n",
        "  for d in distance:\n",
        "        dx, dy = directions[dir_index]\n",
        "        for _ in range(d):\n",
        "            x += dx\n",
        "            y += dy\n",
        "            if (x, y) in visited:\n",
        "                return True\n",
        "            visited.add((x, y))\n",
        "        dir_index = (dir_index + 1) % 4\n",
        "\n",
        "  return False\n",
        "print(corossing_line([1,1,1,2,1]))"
      ],
      "metadata": {
        "colab": {
          "base_uri": "https://localhost:8080/"
        },
        "id": "a06kjdAaOHvv",
        "outputId": "7154c8ce-bf66-4c30-e8f7-84597be54a4d"
      },
      "execution_count": 3,
      "outputs": [
        {
          "output_type": "stream",
          "name": "stdout",
          "text": [
            "True\n"
          ]
        }
      ]
    },
    {
      "cell_type": "markdown",
      "source": [
        "Write an API that generates fancy sequences using the append, addAll, and multAll operations.\n",
        "\n",
        "Implement the Fancy class:\n",
        "\n",
        "    Fancy() Initializes the object with an empty sequence.\n",
        "    void append(val) Appends an integer val to the end of the sequence.\n",
        "    void addAll(inc) Increments all existing values in the sequence by an integer inc.\n",
        "    void multAll(m) Multiplies all existing values in the sequence by an integer m.\n",
        "    int getIndex(idx) Gets the current value at index idx (0-indexed) of the sequence modulo 109 + 7. If the index is greater or equal than the length of the sequence, return -1.\n"
      ],
      "metadata": {
        "id": "rDvrJKE6SitA"
      }
    },
    {
      "cell_type": "code",
      "source": [
        "class Fancy:\n",
        "    def __init__(self):\n",
        "        self.sequence = []\n",
        "        self.add_factor = 0\n",
        "        self.mul_factor = 1\n",
        "        self.MOD = 10**9 + 7\n",
        "\n",
        "    def append(self, val: int) -> None:\n",
        "        adjusted_val = ((val - self.add_factor) * pow(self.mul_factor, -1, self.MOD)) % self.MOD\n",
        "        self.sequence.append(adjusted_val)\n",
        "\n",
        "    def addAll(self, inc: int) -> None:\n",
        "        self.add_factor = (self.add_factor + inc) % self.MOD\n",
        "\n",
        "    def multAll(self, m: int) -> None:\n",
        "        self.add_factor = (self.add_factor * m) % self.MOD\n",
        "        self.mul_factor = (self.mul_factor * m) % self.MOD\n",
        "\n",
        "    def getIndex(self, idx: int) -> int:\n",
        "        if idx >= len(self.sequence):\n",
        "            return -1\n",
        "        # Re-apply global transformations\n",
        "        return (self.sequence[idx] * self.mul_factor + self.add_factor) % self.MOD"
      ],
      "metadata": {
        "id": "_8knPAOjTsDk"
      },
      "execution_count": null,
      "outputs": []
    }
  ]
}